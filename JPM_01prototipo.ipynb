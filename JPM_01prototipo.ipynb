{
 "cells": [
  {
   "cell_type": "markdown",
   "metadata": {},
   "source": [
    "# 1. Divisibilidad y factores\n",
    "\n",
    "En este capítulo, se introducen los conceptos básicos de divisibilidad, que posteriormente utilizaremos para descomponer números en factores primos, lo cual abrirá la puerta a una gran cantidad de procedimientos matemáticos.\n",
    "\n",
    "## 1.1. Múltiplos y divisores\n",
    "\n",
    "Si dos números $a$ y $b$ cumplen que $a=n\\cdot b$, podemos decir que:\n",
    "\n",
    "* $a$ es múltiplo de $b$, porque se obtiene multiplicando $b$ por otro cierto número $n$.\n",
    "* $b$ es divisor de $a$, porque la si dividimos $a$ entre $b$, la división es exacta (de hecho, el resultado es $n$).\n",
    "\n",
    "Por ejemplo, como $36 = 4 \\cdot 9$, afirmamos que:\n",
    "\n",
    "* $36$ es múltiplo de $9$ (y también es múltiplo de $4$).\n",
    "* $9$ es divisor de $36$ (y $4$ también es divisor de $36$)."
   ]
  },
  {
   "cell_type": "code",
   "execution_count": 1,
   "metadata": {},
   "outputs": [
    {
     "name": "stdout",
     "output_type": "stream",
     "text": [
      "El resultado de multiplicar 4 por 9 es 36\n",
      "El cociente 36/9 es 4.0\n",
      "El resto de la división 36/9 es 0\n",
      "Si divides 25 entre 7, el cociente es 3.5714285714285716\n",
      "Es decir, cociente 3 y resto 4\n"
     ]
    }
   ],
   "source": [
    "#Introducimos alguras operaciones básicas en Python\n",
    "#MULTIPLICACIÓN: se indica con un asterisco\n",
    "4 * 9\n",
    "#Podemos usar variables para almacenar el resultado. Psoteriormente, se pueden usar para diferentes propósitos.\n",
    "#Para conocer el valor almacenado en cada variable, podemos llamarla o usar la orden print.\n",
    "resultado = 4 * 9\n",
    "print (\"El resultado de multiplicar 4 por 9 es \"+str(resultado))\n",
    "#Observa que hemos incluido el comando \"str\" afectando a resultado. \n",
    "#Se trata de una orden que convierte cualquier elemento a texto (string), y nos permite traducir el número a una cadena textual.\n",
    "\n",
    "#DIVISIÓN: se indica con una barra (/)\n",
    "cociente = 36 / 9\n",
    "print (\"El cociente 36/9 es \"+str(cociente))\n",
    "#Es posible obtener también el resto de una división. Para ello, recurrimos al comando módulo (%).\n",
    "resto = 36 % 9\n",
    "print (\"El resto de la división 36/9 es \"+str(resto))\n",
    "\n",
    "#NÚMEROS ENTEROS Y DECIMALES\n",
    "#Para obtener cierto resultado como número entero, usamos el comando integer, con la sintaxis: int(número)\n",
    "cocientedecimal = 25 / 7\n",
    "cocienteentero = int (25 / 7)\n",
    "resto2 = 25 % 7\n",
    "print (\"Si divides 25 entre 7, el cociente es \"+str(cocientedecimal))\n",
    "print (\"Es decir, cociente \"+str(cocienteentero)+\" y resto \"+str(resto2))"
   ]
  },
  {
   "cell_type": "markdown",
   "metadata": {},
   "source": [
    "> EJERCICIOS\n",
    "> 1. ¿Es el cero múltiplo o divisor de algún número?\n",
    "> 2. ¿Cuántos divisores tiene, como máximo, cierto número? Pista: Obtén todos los divisores de 36.\n",
    "> 3. ¿Cuántos múltiplos tiene cada número? Pista: Calcula los múltiplos de 3."
   ]
  },
  {
   "cell_type": "markdown",
   "metadata": {},
   "source": [
    "## 1.2. Números primos y compuestos\n",
    "\n",
    "* Un número es primo si sólo tiene dos divisores: él mismo y la unidad (el número $1$).\n",
    "* Un número es compuesto si tiene más de dos divisores.\n",
    "\n",
    "El número $17$ es primo, ya que sólo se puede dividir de forma exacta entre la unidad ($17/1=17$) y entre él mismo ($17/17 = 1$).\n",
    "\n",
    "Sin embargo, el número $36$ es compuesto, porque tiene más de dos divisores: $1, 2, 3, 4...$\n"
   ]
  },
  {
   "cell_type": "code",
   "execution_count": 2,
   "metadata": {},
   "outputs": [
    {
     "name": "stdout",
     "output_type": "stream",
     "text": [
      "12/2=6, y el resto es 0\n",
      "12/3=4, y el resto es 0\n",
      "12/4=3, y el resto es 0\n",
      "12/5=2, y el resto es 2\n",
      "12/6=2, y el resto es 0\n",
      "12/7=1, y el resto es 5\n",
      "12/8=1, y el resto es 4\n",
      "12/9=1, y el resto es 3\n",
      "12/10=1, y el resto es 2\n",
      "12/11=1, y el resto es 1\n"
     ]
    }
   ],
   "source": [
    "#Podemos comprobar si un número es primo dividiéndolo por todos los números anteriores a él, distintos de 1 y él mismo.\n",
    "#Si algún resto es cero, es compuesto, porque tiene algún otro divisor.\n",
    "#Vamos a verlo con un pequeño programa.\n",
    "#Llamamos num al número que queremos comprobar.\n",
    "num = 12\n",
    "#Ahora vamos a ir dividiéndolo por todos los números menores que él.\n",
    "#Para ello iremos pasando por todos ellos y haciendo la división. Esto es lo que llamamos bucle.\n",
    "#En este caso, pasaremos por todos los números comprendidos entre 2 y el propio número.\n",
    "#Nos referirmos a ello así: para cada i en el rango entre 2 y el número (for i in range (2,num)\n",
    "for i in range (2,num):\n",
    "    #En cada caso, llamaremos cociente al resultado de la división, y resto al residuo (se obtiene con la orden %).\n",
    "    #El modificador 'int' indica que queremos obtener el resultado en número entero, sin decimales.\n",
    "    cociente = int(num / i)\n",
    "    resto = num % i\n",
    "    #Iremos imprimiendo el resultado de cada división para ver si hay algún resto que sea cero.\n",
    "    print (str(num)+\"/\"+str(i)+\"=\"+str(cociente)+\", y el resto es \"+str(resto))"
   ]
  },
  {
   "cell_type": "markdown",
   "metadata": {},
   "source": [
    "En este caso, vemos que el número $12$ es compuesto, ya que hay varios restos nulos. De hecho, podemos obtener así sus divisores (todos los que hayan dado lugar a un resto nulo, así como el $1$ y el propio número):\n",
    "\n",
    "divisores$(12) = \\{ 1, 2, 3, 4, 6, 12\\} \\Rightarrow 12$ es un número compuesto.\n",
    "\n",
    "Probemos con otro número, por ejemplo el $7$:"
   ]
  },
  {
   "cell_type": "code",
   "execution_count": 3,
   "metadata": {},
   "outputs": [
    {
     "name": "stdout",
     "output_type": "stream",
     "text": [
      "7/2=3, y el resto es 1\n",
      "7/3=2, y el resto es 1\n",
      "7/4=1, y el resto es 3\n",
      "7/5=1, y el resto es 2\n",
      "7/6=1, y el resto es 1\n"
     ]
    }
   ],
   "source": [
    "#Repetimos el programa anterior\n",
    "num = 7\n",
    "for i in range (2,num):\n",
    "    cociente = int(num / i)\n",
    "    resto = num % i\n",
    "    print (str(num)+\"/\"+str(i)+\"=\"+str(cociente)+\", y el resto es \"+str(resto))"
   ]
  },
  {
   "cell_type": "markdown",
   "metadata": {},
   "source": [
    "Aquí se observa que, en la lista de restos al dividir el $7$ por los números anteriores a él, no aparece ningún cero. Es decir, no tiene otros divisores distintos del $1$ y el $7$. Entonces podemos afirmar que:\n",
    "\n",
    "divisores$(7) = \\{1, 7\\} \\Rightarrow 7$ es un número primo."
   ]
  },
  {
   "cell_type": "markdown",
   "metadata": {},
   "source": [
    "> EJERCICIOS\n",
    "> 1. ¿Es dos un número primo?\n",
    "> 2. ¿Cuál es el mayor número primo?"
   ]
  },
  {
   "cell_type": "markdown",
   "metadata": {},
   "source": [
    "## 1.3. La criba de Eratóstenes\n",
    "\n",
    "El matemático Eratóstenes (nacido en el 276 a.C.) es conocido (entre otras cuestiones) por idear un eficaz método para detectar qué números son primos en cierto conjunto, al que se suele llamar \"la Criba de Eratóstenes\" (Sieve of Eratosthenes) [Página sobre Eratóstenes en MacTutor](https://mathshistory.st-andrews.ac.uk/Biographies/Eratosthenes/)."
   ]
  },
  {
   "cell_type": "code",
   "execution_count": 4,
   "metadata": {},
   "outputs": [
    {
     "data": {
      "text/plain": [
       "([1,\n",
       "  2,\n",
       "  3,\n",
       "  5,\n",
       "  7,\n",
       "  11,\n",
       "  13,\n",
       "  17,\n",
       "  19,\n",
       "  23,\n",
       "  29,\n",
       "  31,\n",
       "  37,\n",
       "  41,\n",
       "  43,\n",
       "  47,\n",
       "  53,\n",
       "  59,\n",
       "  61,\n",
       "  67,\n",
       "  71,\n",
       "  73,\n",
       "  79,\n",
       "  83,\n",
       "  89,\n",
       "  97],\n",
       " 25)"
      ]
     },
     "execution_count": 4,
     "metadata": {},
     "output_type": "execute_result"
    }
   ],
   "source": [
    "#PROGRAMA PARA APLICAR LA CRIBA DE ERATÓSTENES ENTRE 1 Y CUALQUIER NÚMERO\n",
    "#Vamos a definir una función (un pequeño programa), al que llamaremos eratosthenes.\n",
    "#Para ello, usamos la orden def (definir una función), que para funcionar necesitará un parámetro: el número final.\n",
    "def eratosthenes(numerofinal):\n",
    "\n",
    "    #Crearemos dos listas de números, ambas desde el uno hasta el número final indicado en la función.\n",
    "    #La primera la usaremos para almacenar los números primos; la segunda para ir pasando por todos los números.\n",
    "    primos = list(range(1,numerofinal))\n",
    "    rango = list(range(1,numerofinal))\n",
    "\n",
    "    #Programamos un bucle: para cada elemento en la lista de números (lista \"rango\")\n",
    "    for i in rango:\n",
    "        #Y en cada caso, para cada número en la lista de números primos\n",
    "        for j in primos:\n",
    "                #Si el elemento de \"primos\" es distinto de 1 y distinto de él mismo en la lista de números \"rango\"\n",
    "                if j != 1 and i != j:\n",
    "                    #Si el resto de dividirlos es cero, elimina el número de la lista de números primos.\n",
    "                    if i % j == 0:\n",
    "                        division = i / j\n",
    "                        primos.remove(i)\n",
    "                        break\n",
    "    #Adicionalmente, obtenemos la longitud de la lista, con la orden \"len\" (no consideramos primo el número 1)\n",
    "    longitud = int(len(primos)) - 1\n",
    "    \n",
    "    #Por último, indicamos cuál queremos que sea el resultado de la función: la lista de primos (primos) y su longitud\n",
    "    return(primos,longitud)\n",
    "\n",
    "#Para ejecutar la función, simplemente la llamamos por su nombre y le indicamos hasta que número deseamos calcular\n",
    "eratosthenes(100)\n",
    "#Observa que el resultado es una matriz con dos elementos:\n",
    "#El primero es la lista de números primos, que aparece entre corchetes (es una lista).\n",
    "#El segundo es un número aislado con su longitud, que aparece suelto justo antes del cierre del paréntesis de resultado."
   ]
  },
  {
   "cell_type": "code",
   "execution_count": 5,
   "metadata": {},
   "outputs": [
    {
     "name": "stdout",
     "output_type": "stream",
     "text": [
      "CRIBA DE ERATÓSTENES PARA CALCULAR NÚMEROS PRIMOS\n",
      "-------------------------------------------------\n",
      "Cálculo de los números primos entre 1 y 100\n",
      "Esta es la lista de numeros primos:\n",
      "[1, 2, 3, 5, 7, 11, 13, 17, 19, 23, 29, 31, 37, 41, 43, 47, 53, 59, 61, 67, 71, 73, 79, 83, 89, 97]\n",
      "Hay 25 números primos entre el 1 y el 100\n"
     ]
    }
   ],
   "source": [
    "#Hemos obtenido el resultado en forma de dos elementos: el primero es la lista de números primos, el segundo la longitud de esa lista\n",
    "#Es posible usar esos elementos para expresar el resultado de forma más vistosa.\n",
    "#En primer lugar, definimos el número hasta el que deseamos ejecutar la criba:\n",
    "\n",
    "numerofinal = 100\n",
    "\n",
    "#A continuación, vamos imprimiendo los resultados\n",
    "\n",
    "print(\"CRIBA DE ERATÓSTENES PARA CALCULAR NÚMEROS PRIMOS\")\n",
    "print(\"-------------------------------------------------\")\n",
    "print(\"Cálculo de los números primos entre 1 y \"+str(numerofinal))\n",
    "\n",
    "\n",
    "#Ejecutamos nuestra función \"eratosthenes\", llamando \"lista\" al conjunto de números primos.\n",
    "#Para ello, nos referimos a la columna [0] del resultado, que contiene a los números, y la llamamos \"lista\"\n",
    "lista = eratosthenes(numerofinal)[0]\n",
    "#Y denominamos \"extension\" a la columna [1] del resultado, que contiene la longitud de la lista.\n",
    "extension = eratosthenes(numerofinal)[1]\n",
    "\n",
    "\n",
    "#Finalmente, imprimimos por separado los resultados:\n",
    "print (\"Esta es la lista de numeros primos:\")\n",
    "print(lista)\n",
    "print (\"Hay \"+str(extension)+\" números primos entre el 1 y el \"+str(numerofinal))"
   ]
  },
  {
   "cell_type": "markdown",
   "metadata": {
    "tags": []
   },
   "source": [
    "## 1.4. Descomposición en factores primos\n",
    "\n",
    "En general, existen múltiples maneras de descomponer un número compuesto en factores. Por ejemplo, el número $36$ con el que hemos trabajado antes se puede escribir de varias formas.\n",
    "\n",
    "$36 = 4 \\cdot 9$; $36 = 18 \\cdot 2$; $36 = 3 \\cdot 12$; $36 = 36 \\cdot 1$\n",
    "\n",
    "Observa que en esas descomposiciones aparecen números compuestos combinados con factores primos. Pero cada número compuesto admite una y sólo una descomposición en factores primos exclusivamente, que por ser única puede asemejarse a la \"firma\" de cada número, o su \"ADN\".\n",
    "\n",
    "$36 = 2 \\cdot 2 \\cdot 3 \\cdot 3 = 2^{2} \\cdot 3^{2}$"
   ]
  },
  {
   "cell_type": "code",
   "execution_count": 6,
   "metadata": {},
   "outputs": [
    {
     "name": "stdout",
     "output_type": "stream",
     "text": [
      "FACTORES PRIMOS DE UN NÚMERO\n",
      "Los factores primos de 36 son: [2, 2, 3, 3]\n"
     ]
    }
   ],
   "source": [
    "print(\"FACTORES PRIMOS DE UN NÚMERO\")\n",
    "numfact = 36\n",
    "primescalc = eratosthenes(numfact)[0]\n",
    "#Elimino el 1, que puede dar problemas para sacar la lista\n",
    "del primescalc[0]\n",
    "\n",
    "factors = []\n",
    "\n",
    "n = numfact\n",
    "for j in primescalc:\n",
    "    while n % j == 0:\n",
    "        #print(\"pruebo con \"+str(j))\n",
    "        #print(\"Entero\")\n",
    "        #print(\"numtemp= \"+str(n))\n",
    "        factors.append(j)\n",
    "        n = n / j\n",
    "print(\"Los factores primos de \"+str(numfact)+\" son: \"+str(factors))"
   ]
  },
  {
   "cell_type": "markdown",
   "metadata": {},
   "source": [
    "## 1.5. Máximo común divisor: algoritmo de Euclides\n",
    "\n"
   ]
  },
  {
   "cell_type": "code",
   "execution_count": 10,
   "metadata": {},
   "outputs": [
    {
     "name": "stdout",
     "output_type": "stream",
     "text": [
      "11\n"
     ]
    }
   ],
   "source": [
    "def euclides(n1,n2):\n",
    "    resto = 1\n",
    "    while resto != 0:\n",
    "        resto = n1 % n2\n",
    "        n1 = n2\n",
    "        n2 = resto\n",
    "    print(n1)\n",
    "        \n",
    "euclides(121,44)"
   ]
  },
  {
   "cell_type": "code",
   "execution_count": null,
   "metadata": {},
   "outputs": [],
   "source": []
  }
 ],
 "metadata": {
  "kernelspec": {
   "display_name": "Python 3 (ipykernel)",
   "language": "python",
   "name": "python3"
  },
  "language_info": {
   "codemirror_mode": {
    "name": "ipython",
    "version": 3
   },
   "file_extension": ".py",
   "mimetype": "text/x-python",
   "name": "python",
   "nbconvert_exporter": "python",
   "pygments_lexer": "ipython3",
   "version": "3.8.2"
  }
 },
 "nbformat": 4,
 "nbformat_minor": 4
}
